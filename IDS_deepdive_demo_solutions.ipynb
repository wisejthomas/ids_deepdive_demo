{
 "cells": [
  {
   "cell_type": "markdown",
   "id": "acf7d51e-9d0a-437c-8b6f-d402b5f3cc9b",
   "metadata": {},
   "source": [
    "# Introduction \n",
    "\n",
    "This worksheet, provides a range of fill in the blank, learning prompts and other activities to engage users in their initial steps within using Python within GCP. \n",
    "\n",
    "This worksheet is broken down into several core sections, corresponding with those sections covered within the demonstration. Please note, as section one explore the BigQuery Studio environment, coding questions will not be provided for this section, rather only prompts to encourage your user experience with the upcoming deep dive workshop. \n",
    "\n",
    "Please note, there is an accompanying Solutions Sheet, to provide the answers as needed!\n",
    "\n",
    "## Section 1: Navigating Data in BigQuery Studio \n",
    "\n",
    "Using the BigQuery Studio (and potentially going beyond the dataset we explored within the session), explore the metadata (variable names, previews etc) of various datasets available within the GCP environment. \n",
    "\n",
    "## Section 2a: Package Installation and Setup \n",
    "Run the following code, to prepare the environment and load in the relevant packages: "
   ]
  },
  {
   "cell_type": "code",
   "execution_count": null,
   "id": "49dda492-5198-48ae-b693-eaef8e34dd0d",
   "metadata": {},
   "outputs": [],
   "source": [
    "# Install a pip package in the current Jupyter kernel\n",
    "# here the package is bigframes https://pypi.org/project/bigframes/\n",
    "import sys\n",
    "!{sys.executable} -m pip install bigframes | grep -v 'already satisfied'\n",
    "\n",
    "import bigframes.pandas as bpd\n",
    "import matplotlib.pyplot as plt\n",
    "import pandas as pd\n",
    "\n",
    "# import warnings filter & ignore all future warnings\n",
    "# this is for teaching purposes only, to avoid FutureWarnings to do with bigframe compiler implementation\n",
    "from warnings import simplefilter\n",
    "simplefilter(action='ignore', category=FutureWarning)"
   ]
  },
  {
   "cell_type": "markdown",
   "id": "66293f0b-6a87-4191-b176-3764a950245b",
   "metadata": {},
   "source": [
    "## Section 3a: Load in Data\n",
    "Load in the Fire Brigade Data from GCP. "
   ]
  },
  {
   "cell_type": "code",
   "execution_count": null,
   "id": "cc055f13-0e6f-468e-9194-c64b2cd46fb8",
   "metadata": {},
   "outputs": [],
   "source": [
    "# Fill in the Blanks\n",
    "\n",
    "# Load data from BigQuery\n",
    "print(\"step 1-of-3 :: loading data from BigQuery\")\n",
    "query_or_table = \"bigquery-public-data.london_fire_brigade.---\" # [Insert the table name here]\n",
    "bq_df = bpd.read_gbq(---, use_cache=False) # [Insert Variable Name Here]\n",
    "\n",
    "# Double Check the column names \n",
    "list(---) # [Insert Read in GBQ Data]"
   ]
  },
  {
   "cell_type": "markdown",
   "id": "8b06a2c4-acc1-4776-b5f4-57418ab994df",
   "metadata": {},
   "source": [
    "## Section 3b: Using Magic Commands to Manipulate Data \n",
    "\n",
    "Complete the following magic command to explore the number of Outdoor Fires by Hour of Call made. This will produce a breakdown per hour of call, for the quantity of fires call outs which happened under the Outdoor Category. "
   ]
  },
  {
   "cell_type": "code",
   "execution_count": 5,
   "id": "c4aac1d3-3d97-457b-8737-d176236a2f9c",
   "metadata": {
    "tags": []
   },
   "outputs": [
    {
     "data": {
      "application/vnd.jupyter.widget-view+json": {
       "model_id": "11c9feb6337442038cd1953093469e68",
       "version_major": 2,
       "version_minor": 0
      },
      "text/plain": [
       "Query is running:   0%|          |"
      ]
     },
     "metadata": {},
     "output_type": "display_data"
    },
    {
     "data": {
      "application/vnd.jupyter.widget-view+json": {
       "model_id": "bfc4013b7d0b4d039070399f9fcc581c",
       "version_major": 2,
       "version_minor": 0
      },
      "text/plain": [
       "Downloading:   0%|          |"
      ]
     },
     "metadata": {},
     "output_type": "display_data"
    }
   ],
   "source": [
    "%%bigquery hour_of_call_propertycategory\n",
    "SELECT\n",
    "    hour_of_call,\n",
    "    COUNT(DISTINCT incident_number) as incident_number_count\n",
    "FROM \n",
    "    bigquery-public-data.london_fire_brigade.fire_brigade_service_calls\n",
    "WHERE \n",
    "    property_category = \"Outdoor\"\n",
    "GROUP BY \n",
    "    hour_of_call\n",
    "ORDER BY \n",
    "    hour_of_call ASC;"
   ]
  },
  {
   "cell_type": "code",
   "execution_count": 6,
   "id": "5a9fc0b3-2f2c-409f-9b58-c3c73fef8c45",
   "metadata": {
    "tags": []
   },
   "outputs": [
    {
     "data": {
      "text/html": [
       "<div>\n",
       "<style scoped>\n",
       "    .dataframe tbody tr th:only-of-type {\n",
       "        vertical-align: middle;\n",
       "    }\n",
       "\n",
       "    .dataframe tbody tr th {\n",
       "        vertical-align: top;\n",
       "    }\n",
       "\n",
       "    .dataframe thead th {\n",
       "        text-align: right;\n",
       "    }\n",
       "</style>\n",
       "<table border=\"1\" class=\"dataframe\">\n",
       "  <thead>\n",
       "    <tr style=\"text-align: right;\">\n",
       "      <th></th>\n",
       "      <th>hour_of_call</th>\n",
       "      <th>incident_number_count</th>\n",
       "    </tr>\n",
       "  </thead>\n",
       "  <tbody>\n",
       "    <tr>\n",
       "      <th>0</th>\n",
       "      <td>0</td>\n",
       "      <td>66</td>\n",
       "    </tr>\n",
       "    <tr>\n",
       "      <th>1</th>\n",
       "      <td>1</td>\n",
       "      <td>58</td>\n",
       "    </tr>\n",
       "    <tr>\n",
       "      <th>2</th>\n",
       "      <td>2</td>\n",
       "      <td>36</td>\n",
       "    </tr>\n",
       "    <tr>\n",
       "      <th>3</th>\n",
       "      <td>3</td>\n",
       "      <td>23</td>\n",
       "    </tr>\n",
       "    <tr>\n",
       "      <th>4</th>\n",
       "      <td>4</td>\n",
       "      <td>20</td>\n",
       "    </tr>\n",
       "    <tr>\n",
       "      <th>5</th>\n",
       "      <td>5</td>\n",
       "      <td>21</td>\n",
       "    </tr>\n",
       "    <tr>\n",
       "      <th>6</th>\n",
       "      <td>6</td>\n",
       "      <td>26</td>\n",
       "    </tr>\n",
       "    <tr>\n",
       "      <th>7</th>\n",
       "      <td>7</td>\n",
       "      <td>47</td>\n",
       "    </tr>\n",
       "    <tr>\n",
       "      <th>8</th>\n",
       "      <td>8</td>\n",
       "      <td>50</td>\n",
       "    </tr>\n",
       "    <tr>\n",
       "      <th>9</th>\n",
       "      <td>9</td>\n",
       "      <td>68</td>\n",
       "    </tr>\n",
       "    <tr>\n",
       "      <th>10</th>\n",
       "      <td>10</td>\n",
       "      <td>72</td>\n",
       "    </tr>\n",
       "    <tr>\n",
       "      <th>11</th>\n",
       "      <td>11</td>\n",
       "      <td>109</td>\n",
       "    </tr>\n",
       "    <tr>\n",
       "      <th>12</th>\n",
       "      <td>12</td>\n",
       "      <td>110</td>\n",
       "    </tr>\n",
       "    <tr>\n",
       "      <th>13</th>\n",
       "      <td>13</td>\n",
       "      <td>136</td>\n",
       "    </tr>\n",
       "    <tr>\n",
       "      <th>14</th>\n",
       "      <td>14</td>\n",
       "      <td>167</td>\n",
       "    </tr>\n",
       "    <tr>\n",
       "      <th>15</th>\n",
       "      <td>15</td>\n",
       "      <td>181</td>\n",
       "    </tr>\n",
       "    <tr>\n",
       "      <th>16</th>\n",
       "      <td>16</td>\n",
       "      <td>223</td>\n",
       "    </tr>\n",
       "    <tr>\n",
       "      <th>17</th>\n",
       "      <td>17</td>\n",
       "      <td>214</td>\n",
       "    </tr>\n",
       "    <tr>\n",
       "      <th>18</th>\n",
       "      <td>18</td>\n",
       "      <td>248</td>\n",
       "    </tr>\n",
       "    <tr>\n",
       "      <th>19</th>\n",
       "      <td>19</td>\n",
       "      <td>218</td>\n",
       "    </tr>\n",
       "    <tr>\n",
       "      <th>20</th>\n",
       "      <td>20</td>\n",
       "      <td>185</td>\n",
       "    </tr>\n",
       "    <tr>\n",
       "      <th>21</th>\n",
       "      <td>21</td>\n",
       "      <td>123</td>\n",
       "    </tr>\n",
       "    <tr>\n",
       "      <th>22</th>\n",
       "      <td>22</td>\n",
       "      <td>120</td>\n",
       "    </tr>\n",
       "    <tr>\n",
       "      <th>23</th>\n",
       "      <td>23</td>\n",
       "      <td>73</td>\n",
       "    </tr>\n",
       "  </tbody>\n",
       "</table>\n",
       "</div>"
      ],
      "text/plain": [
       "    hour_of_call  incident_number_count\n",
       "0              0                     66\n",
       "1              1                     58\n",
       "2              2                     36\n",
       "3              3                     23\n",
       "4              4                     20\n",
       "5              5                     21\n",
       "6              6                     26\n",
       "7              7                     47\n",
       "8              8                     50\n",
       "9              9                     68\n",
       "10            10                     72\n",
       "11            11                    109\n",
       "12            12                    110\n",
       "13            13                    136\n",
       "14            14                    167\n",
       "15            15                    181\n",
       "16            16                    223\n",
       "17            17                    214\n",
       "18            18                    248\n",
       "19            19                    218\n",
       "20            20                    185\n",
       "21            21                    123\n",
       "22            22                    120\n",
       "23            23                     73"
      ]
     },
     "execution_count": 6,
     "metadata": {},
     "output_type": "execute_result"
    }
   ],
   "source": [
    "hour_of_call_propertycategory"
   ]
  },
  {
   "cell_type": "markdown",
   "id": "6b90fded-2729-4a97-b5e2-1f939f13a666",
   "metadata": {},
   "source": [
    "Next up, have a go at producing a breakdown per incident group, for those reported within a dwelling (property category), using your knowledge of SQL and magic commands to manipulate the data. "
   ]
  },
  {
   "cell_type": "code",
   "execution_count": 7,
   "id": "646302a3-ab37-4217-a2fe-dcbbd0c38198",
   "metadata": {
    "tags": []
   },
   "outputs": [
    {
     "data": {
      "application/vnd.jupyter.widget-view+json": {
       "model_id": "fc84db030a0d4c10b819c79de6539b43",
       "version_major": 2,
       "version_minor": 0
      },
      "text/plain": [
       "Query is running:   0%|          |"
      ]
     },
     "metadata": {},
     "output_type": "display_data"
    },
    {
     "data": {
      "application/vnd.jupyter.widget-view+json": {
       "model_id": "94bc8f31f3ac41edb74c72c952094206",
       "version_major": 2,
       "version_minor": 0
      },
      "text/plain": [
       "Downloading:   0%|          |"
      ]
     },
     "metadata": {},
     "output_type": "display_data"
    }
   ],
   "source": [
    "%%bigquery hour_of_call_propertycategory\n",
    "SELECT\n",
    "    incident_group,\n",
    "    COUNT(DISTINCT incident_number) as incident_number_count\n",
    "FROM \n",
    "    bigquery-public-data.london_fire_brigade.fire_brigade_service_calls\n",
    "WHERE \n",
    "    property_category = \"Dwelling\"\n",
    "GROUP BY \n",
    "    incident_group\n",
    "ORDER BY \n",
    "    incident_group ASC;"
   ]
  },
  {
   "cell_type": "code",
   "execution_count": 8,
   "id": "9408a79b-1721-426c-8525-b7283b0bc9f0",
   "metadata": {
    "tags": []
   },
   "outputs": [
    {
     "data": {
      "text/html": [
       "<div>\n",
       "<style scoped>\n",
       "    .dataframe tbody tr th:only-of-type {\n",
       "        vertical-align: middle;\n",
       "    }\n",
       "\n",
       "    .dataframe tbody tr th {\n",
       "        vertical-align: top;\n",
       "    }\n",
       "\n",
       "    .dataframe thead th {\n",
       "        text-align: right;\n",
       "    }\n",
       "</style>\n",
       "<table border=\"1\" class=\"dataframe\">\n",
       "  <thead>\n",
       "    <tr style=\"text-align: right;\">\n",
       "      <th></th>\n",
       "      <th>incident_group</th>\n",
       "      <th>incident_number_count</th>\n",
       "    </tr>\n",
       "  </thead>\n",
       "  <tbody>\n",
       "    <tr>\n",
       "      <th>0</th>\n",
       "      <td>False Alarm</td>\n",
       "      <td>7032</td>\n",
       "    </tr>\n",
       "    <tr>\n",
       "      <th>1</th>\n",
       "      <td>Fire</td>\n",
       "      <td>1856</td>\n",
       "    </tr>\n",
       "    <tr>\n",
       "      <th>2</th>\n",
       "      <td>Special Service</td>\n",
       "      <td>6352</td>\n",
       "    </tr>\n",
       "  </tbody>\n",
       "</table>\n",
       "</div>"
      ],
      "text/plain": [
       "    incident_group  incident_number_count\n",
       "0      False Alarm                   7032\n",
       "1             Fire                   1856\n",
       "2  Special Service                   6352"
      ]
     },
     "execution_count": 8,
     "metadata": {},
     "output_type": "execute_result"
    }
   ],
   "source": [
    "hour_of_call_propertycategory"
   ]
  },
  {
   "cell_type": "code",
   "execution_count": null,
   "id": "5f27515f-5030-4218-9511-76be2012db1e",
   "metadata": {},
   "outputs": [],
   "source": []
  }
 ],
 "metadata": {
  "environment": {
   "kernel": "conda-base-py",
   "name": "workbench-notebooks.m128",
   "type": "gcloud",
   "uri": "us-docker.pkg.dev/deeplearning-platform-release/gcr.io/workbench-notebooks:m128"
  },
  "kernelspec": {
   "display_name": "Python 3 (ipykernel) (Local)",
   "language": "python",
   "name": "conda-base-py"
  },
  "language_info": {
   "codemirror_mode": {
    "name": "ipython",
    "version": 3
   },
   "file_extension": ".py",
   "mimetype": "text/x-python",
   "name": "python",
   "nbconvert_exporter": "python",
   "pygments_lexer": "ipython3",
   "version": "3.10.16"
  }
 },
 "nbformat": 4,
 "nbformat_minor": 5
}
