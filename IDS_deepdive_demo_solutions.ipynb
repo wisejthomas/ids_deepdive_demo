{
 "cells": [
  {
   "cell_type": "markdown",
   "id": "acf7d51e-9d0a-437c-8b6f-d402b5f3cc9b",
   "metadata": {},
   "source": [
    "# Introduction \n",
    "\n",
    "This worksheet, provides a range of fill in the blank, learning prompts and other activities to engage users in their initial steps within using Python within GCP. \n",
    "\n",
    "This worksheet is broken down into several core sections, corresponding with those sections covered within the demonstration. Please note, as section one explore the BigQuery Studio environment, coding questions will not be provided for this section, rather only prompts to encourage your user experience with the upcoming deep dive workshop. \n",
    "\n",
    "Please note, there is an accompanying Solutions Sheet, to provide the answers as needed!\n",
    "\n",
    "## Section 1: Navigating Data in BigQuery Studio \n",
    "\n",
    "Using the BigQuery Studio (and potentially going beyond the dataset we explored within the session), explore the metadata (variable names, previews etc) of various datasets available within the GCP environment. \n",
    "\n",
    "## Section 2a: Package Installation and Setup \n",
    "Run the following code, to prepare the environment and load in the relevant packages: "
   ]
  },
  {
   "cell_type": "code",
   "execution_count": null,
   "id": "49dda492-5198-48ae-b693-eaef8e34dd0d",
   "metadata": {
    "tags": []
   },
   "outputs": [],
   "source": [
    "# Install a pip package in the current Jupyter kernel\n",
    "# here the package is bigframes https://pypi.org/project/bigframes/\n",
    "import sys\n",
    "!{sys.executable} -m pip install bigframes | grep -v 'already satisfied'\n",
    "\n",
    "import bigframes.pandas as bpd\n",
    "import matplotlib.pyplot as plt\n",
    "import pandas as pd\n",
    "\n",
    "# import warnings filter & ignore all future warnings\n",
    "# this is for teaching purposes only, to avoid FutureWarnings to do with bigframe compiler implementation\n",
    "from warnings import simplefilter\n",
    "simplefilter(action='ignore', category=FutureWarning)"
   ]
  },
  {
   "cell_type": "markdown",
   "id": "66293f0b-6a87-4191-b176-3764a950245b",
   "metadata": {},
   "source": [
    "## Section 3a: Load in Data\n",
    "Load in the Fire Brigade Data from GCP. "
   ]
  },
  {
   "cell_type": "code",
   "execution_count": null,
   "id": "cc055f13-0e6f-468e-9194-c64b2cd46fb8",
   "metadata": {
    "tags": []
   },
   "outputs": [],
   "source": [
    "# Fill in the Blanks\n",
    "\n",
    "# Load data from BigQuery\n",
    "query_or_table = \"bigquery-public-data.london_fire_brigade.fire_brigade_service_calls\" # [Insert the table name here]\n",
    "bq_df = bpd.read_gbq(query_or_table, use_cache=False) # [Insert Variable Name Here]\n",
    "\n",
    "# Double Check the column names \n",
    "list(bq_df) # [Insert Read in GBQ Data]"
   ]
  },
  {
   "cell_type": "markdown",
   "id": "8b06a2c4-acc1-4776-b5f4-57418ab994df",
   "metadata": {},
   "source": [
    "## Section 3b: Using Magic Commands to Manipulate Data \n",
    "\n",
    "Complete the following magic command to explore the number of Outdoor Fires by Hour of Call made. This will produce a breakdown per hour of call, for the quantity of fires call outs which happened under the Outdoor Category. "
   ]
  },
  {
   "cell_type": "code",
   "execution_count": null,
   "id": "c4aac1d3-3d97-457b-8737-d176236a2f9c",
   "metadata": {
    "tags": []
   },
   "outputs": [],
   "source": [
    "%%bigquery hour_of_call_outdoorcategory\n",
    "SELECT\n",
    "    hour_of_call,\n",
    "    COUNT(DISTINCT incident_number) as incident_number_count\n",
    "FROM \n",
    "    bigquery-public-data.london_fire_brigade.fire_brigade_service_calls\n",
    "WHERE \n",
    "    property_category = \"Outdoor\"\n",
    "GROUP BY \n",
    "    hour_of_call\n",
    "ORDER BY \n",
    "    hour_of_call ASC;"
   ]
  },
  {
   "cell_type": "code",
   "execution_count": null,
   "id": "5a9fc0b3-2f2c-409f-9b58-c3c73fef8c45",
   "metadata": {
    "tags": []
   },
   "outputs": [],
   "source": [
    "# Lets check what results you got!\n",
    "hour_of_call_outdoorcategory"
   ]
  },
  {
   "cell_type": "markdown",
   "id": "6b90fded-2729-4a97-b5e2-1f939f13a666",
   "metadata": {},
   "source": [
    "Next up, have a go at producing a breakdown per incident group, for those reported within a dwelling (property category), using your knowledge of SQL and magic commands to manipulate the data. "
   ]
  },
  {
   "cell_type": "code",
   "execution_count": null,
   "id": "646302a3-ab37-4217-a2fe-dcbbd0c38198",
   "metadata": {
    "tags": []
   },
   "outputs": [],
   "source": [
    "%%bigquery hour_of_call_dwellingcategory\n",
    "SELECT\n",
    "    incident_group,\n",
    "    COUNT(DISTINCT incident_number) as incident_number_count\n",
    "FROM \n",
    "    bigquery-public-data.london_fire_brigade.fire_brigade_service_calls\n",
    "WHERE \n",
    "    property_category = \"Dwelling\"\n",
    "GROUP BY \n",
    "    incident_group\n",
    "ORDER BY \n",
    "    incident_group ASC;"
   ]
  },
  {
   "cell_type": "code",
   "execution_count": null,
   "id": "9408a79b-1721-426c-8525-b7283b0bc9f0",
   "metadata": {
    "tags": []
   },
   "outputs": [],
   "source": [
    "hour_of_call_dwellingcategory"
   ]
  },
  {
   "cell_type": "markdown",
   "id": "57e0be43-19e6-4ac1-9ecd-107f9a1fc3df",
   "metadata": {
    "tags": []
   },
   "source": [
    "## Section 3c: Basic Descriptive Statistics\n",
    "\n",
    "As we have already explored all of the available numerical variables for the given dataset, lets jump across to a slightly different dataset to explore this skill further. \n",
    "\n",
    "Using the staged prompts available, explore the dataset \"\n",
    "bigquery-public-data.noaa_hurricanes.hurricanes\", particularly exploring the numerical data and producing basic descriptive statistics for: \n",
    "\n",
    "- wmo_wind \n",
    "- wmo_pressure \n",
    "- usa_wind\n",
    "- usa_pressure\n",
    "- cma_presure \n",
    "\n",
    "Please check the solution sheet for our answer, however, like most programming, there will always be multiple ways to conduct this analysis! "
   ]
  },
  {
   "cell_type": "code",
   "execution_count": null,
   "id": "190fbf08-e0da-49b2-9ecd-a0f0f05efc7d",
   "metadata": {
    "tags": []
   },
   "outputs": [],
   "source": [
    "%%bigquery hurricane_description\n",
    "SELECT \n",
    "    wmo_wind, \n",
    "    wmo_pressure,\n",
    "    usa_wind, \n",
    "    usa_pressure, \n",
    "    cma_pressure\n",
    "FROM \n",
    "    bigquery-public-data.noaa_hurricanes.hurricanes\n"
   ]
  },
  {
   "cell_type": "code",
   "execution_count": null,
   "id": "eaf573fe-aaa0-4edc-974e-9e31ee18e6a2",
   "metadata": {
    "tags": []
   },
   "outputs": [],
   "source": [
    "hurricane_description.describe()"
   ]
  },
  {
   "cell_type": "markdown",
   "id": "bd25651c-4cc2-42e4-a5b9-e36ffb274e07",
   "metadata": {},
   "source": [
    "## Section 3d: Building Cross Tabs\n",
    "\n",
    "Lets build some more complex crosstabs, for this we will explore the 'stop_code_description', and 'property_category'. \n"
   ]
  },
  {
   "cell_type": "code",
   "execution_count": null,
   "id": "c0456102-76d9-4b1c-abc7-c6f18c428384",
   "metadata": {
    "tags": []
   },
   "outputs": [],
   "source": [
    "%%bigquery crosstab_explore_data_stopcategory\n",
    "SELECT \n",
    "    stop_code_description,\n",
    "    property_category\n",
    "FROM \n",
    "    bigquery-public-data.london_fire_brigade.fire_brigade_service_calls"
   ]
  },
  {
   "cell_type": "code",
   "execution_count": null,
   "id": "fcf08948-1a64-4dce-a70a-35f069cba714",
   "metadata": {
    "tags": []
   },
   "outputs": [],
   "source": [
    "# Crosstab in Pandas \n",
    "## https://pandas.pydata.org/docs/reference/api/pandas.crosstab.html\n",
    "pd.crosstab(\n",
    "    crosstab_explore_data_stopcategory.stop_code_description, \n",
    "    crosstab_explore_data_stopcategory.property_category)"
   ]
  },
  {
   "cell_type": "markdown",
   "id": "d8d3fbbb-05d2-4927-b6cc-dd4004a7ea22",
   "metadata": {},
   "source": [
    "Taking this further, we can now explore the breakdown between \"stop_code_description\" and \"property_type\". "
   ]
  },
  {
   "cell_type": "code",
   "execution_count": null,
   "id": "95396f3c-5a81-4aea-b8fe-bc14277b22ef",
   "metadata": {
    "tags": []
   },
   "outputs": [],
   "source": [
    "%%bigquery crosstab_explore_data_stoptype\n",
    "SELECT \n",
    "    stop_code_description,\n",
    "    property_type\n",
    "FROM \n",
    "    bigquery-public-data.london_fire_brigade.fire_brigade_service_calls"
   ]
  },
  {
   "cell_type": "code",
   "execution_count": null,
   "id": "d5e4b29a-605e-439d-a2b3-59f83763e265",
   "metadata": {
    "tags": []
   },
   "outputs": [],
   "source": [
    "# Crosstab in Pandas \n",
    "## https://pandas.pydata.org/docs/reference/api/pandas.crosstab.html\n",
    "pd.crosstab(\n",
    "    crosstab_explore_data_stoptype.stop_code_description, \n",
    "    crosstab_explore_data_stoptype.property_type)"
   ]
  },
  {
   "cell_type": "markdown",
   "id": "d5e03470-1661-441a-8ac4-5d4a34913119",
   "metadata": {},
   "source": [
    "## Section 4: Data Visualisations \n",
    "\n",
    "Once again, using the results from Section 3b, we can create visualisations using matplotlib! "
   ]
  },
  {
   "cell_type": "code",
   "execution_count": null,
   "id": "a80fbe43-7a24-4b9e-a482-e21d2d9da6ab",
   "metadata": {
    "tags": []
   },
   "outputs": [],
   "source": [
    "# Bar Chat 1: \n",
    "    # For this we will want to call hour of call vs incident number count \n",
    "plt.bar(hour_of_call_outdoorcategory.hour_of_call, \n",
    "        hour_of_call_outdoorcategory.incident_number_count)\n",
    "# Label our X and Y axis and Title \n",
    "plt.xlabel('Hour of Call')\n",
    "plt.ylabel('Number of Incidents')\n",
    "plt.title('Number of Incidents recorded for Outdoor Callouts per Hour')"
   ]
  },
  {
   "cell_type": "code",
   "execution_count": null,
   "id": "4663a795-a3d0-467c-acb9-e218c64d2208",
   "metadata": {
    "tags": []
   },
   "outputs": [],
   "source": [
    "# Bar Chat 2: \n",
    "    # For this we will want to call Incident Group vs incident number count \n",
    "plt.bar(hour_of_call_dwellingcategory.incident_group, \n",
    "        hour_of_call_dwellingcategory.incident_number_count)\n",
    "# Label our X and Y axis and Title \n",
    "plt.xlabel('Incident Group')\n",
    "plt.ylabel('Number of Incidents')\n",
    "plt.title('Number of Incidents recorded per Incident Group')"
   ]
  },
  {
   "cell_type": "markdown",
   "id": "d3a89c56-308c-46fb-9b7a-a4bf20d3dff6",
   "metadata": {},
   "source": [
    "## Extension\n",
    "\n",
    "If you would like to explore these skills and explore further, our suggestion is to rerun these exercises with the Hurricanes Dataset used within Section 3c. Focusing on variables such as 'mlc_class', 'mlc_wind' and 'mlc_pressure' and how this varies from other metrics such as nadi, usa and cma. These however will not have solutions here, but we will be happy to discuss them during the deep dive to help fuel your imagination! \n"
   ]
  }
 ],
 "metadata": {
  "environment": {
   "kernel": "conda-base-py",
   "name": "workbench-notebooks.m128",
   "type": "gcloud",
   "uri": "us-docker.pkg.dev/deeplearning-platform-release/gcr.io/workbench-notebooks:m128"
  },
  "kernelspec": {
   "display_name": "Python 3 (ipykernel) (Local)",
   "language": "python",
   "name": "conda-base-py"
  },
  "language_info": {
   "codemirror_mode": {
    "name": "ipython",
    "version": 3
   },
   "file_extension": ".py",
   "mimetype": "text/x-python",
   "name": "python",
   "nbconvert_exporter": "python",
   "pygments_lexer": "ipython3",
   "version": "3.10.16"
  }
 },
 "nbformat": 4,
 "nbformat_minor": 5
}
