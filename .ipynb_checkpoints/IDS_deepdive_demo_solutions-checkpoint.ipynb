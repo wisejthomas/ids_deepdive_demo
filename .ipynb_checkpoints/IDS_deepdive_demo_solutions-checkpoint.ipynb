{
 "cells": [
  {
   "cell_type": "markdown",
   "id": "acf7d51e-9d0a-437c-8b6f-d402b5f3cc9b",
   "metadata": {},
   "source": [
    "# Introduction \n",
    "\n",
    "This worksheet, provides a range of fill in the blank, learning prompts and other activities to engage users in their initial steps within using Python within GCP. \n",
    "\n",
    "This worksheet is broken down into several core sections, corresponding with those sections covered within the demonstration. Please note, as section one explore the BigQuery Studio environment, coding questions will not be provided for this section, rather only prompts to encourage your user experience with the upcoming deep dive workshop. \n",
    "\n",
    "## Section 1: Navigating Data in BigQuery Studio \n",
    "\n",
    "Using the BigQuery Studio (and potentially going beyond the dataset we explored within the session), explore the metadata (variable names, previews etc) of various datasets available within the GCP environment. \n",
    "\n",
    "## Section 2a: Package Installation and Setup \n",
    "Run the following code, to prepare the environment and load in the relevant packages: "
   ]
  },
  {
   "cell_type": "code",
   "execution_count": null,
   "id": "49dda492-5198-48ae-b693-eaef8e34dd0d",
   "metadata": {},
   "outputs": [],
   "source": [
    "# Install a pip package in the current Jupyter kernel\n",
    "# here the package is bigframes https://pypi.org/project/bigframes/\n",
    "import sys\n",
    "!{sys.executable} -m pip install bigframes | grep -v 'already satisfied'\n",
    "\n",
    "import bigframes.pandas as bpd\n",
    "import matplotlib.pyplot as plt\n",
    "import pandas as pd\n",
    "\n",
    "# import warnings filter & ignore all future warnings\n",
    "# this is for teaching purposes only, to avoid FutureWarnings to do with bigframe compiler implementation\n",
    "from warnings import simplefilter\n",
    "simplefilter(action='ignore', category=FutureWarning)"
   ]
  },
  {
   "cell_type": "markdown",
   "id": "66293f0b-6a87-4191-b176-3764a950245b",
   "metadata": {},
   "source": [
    "## Section 3a: Load in Data\n",
    "Load in the Fire Brigade Data from GCP. "
   ]
  },
  {
   "cell_type": "code",
   "execution_count": null,
   "id": "cc055f13-0e6f-468e-9194-c64b2cd46fb8",
   "metadata": {},
   "outputs": [],
   "source": [
    "# Fill in the Blanks\n",
    "\n",
    "# Load data from BigQuery\n",
    "print(\"step 1-of-3 :: loading data from BigQuery\")\n",
    "query_or_table = \"bigquery-public-data.london_fire_brigade.---\" # [Insert the table name here]\n",
    "bq_df = bpd.read_gbq(---, use_cache=False) # [Insert Variable Name Here]\n",
    "\n",
    "# Double Check the column names \n",
    "list(---) # [Insert Read in GBQ Data]"
   ]
  },
  {
   "cell_type": "markdown",
   "id": "8b06a2c4-acc1-4776-b5f4-57418ab994df",
   "metadata": {},
   "source": [
    "## Section 3b: Using Magic Commands to Manipulate Data \n",
    "\n",
    "Complete the following magic command to explore the number of Outdoor Fires by Hour of Call made. This will produce a breakdown per hour of call, for the quantity of fires call outs which happened under the Outdoor Category. "
   ]
  },
  {
   "cell_type": "code",
   "execution_count": null,
   "id": "c4aac1d3-3d97-457b-8737-d176236a2f9c",
   "metadata": {},
   "outputs": [],
   "source": [
    "%%bigquery hour_of_call_propertycategory\n",
    "SELECT\n",
    "    ----, # [Insert Variable here]\n",
    "    COUNT(DISTINCT incident_number) as incident_number_count\n",
    "FROM \n",
    "    ---- # [Insert Dataset]\n",
    "WHERE \n",
    "    property_category == \"Outdoor\"\n",
    "GROUP BY \n",
    "    ---- # [Insert Dataset]\n",
    "ORDER BY \n",
    "    hour_of_call ---; # [Insert Direction (ASC or DESC)]"
   ]
  },
  {
   "cell_type": "markdown",
   "id": "6b90fded-2729-4a97-b5e2-1f939f13a666",
   "metadata": {},
   "source": [
    "Next up, produce a breakdown per incident group, for those reported within a dwelling (property category) "
   ]
  },
  {
   "cell_type": "code",
   "execution_count": null,
   "id": "646302a3-ab37-4217-a2fe-dcbbd0c38198",
   "metadata": {},
   "outputs": [],
   "source": []
  }
 ],
 "metadata": {
  "environment": {
   "kernel": "conda-base-py",
   "name": "workbench-notebooks.m128",
   "type": "gcloud",
   "uri": "us-docker.pkg.dev/deeplearning-platform-release/gcr.io/workbench-notebooks:m128"
  },
  "kernelspec": {
   "display_name": "Python 3 (ipykernel) (Local)",
   "language": "python",
   "name": "conda-base-py"
  },
  "language_info": {
   "codemirror_mode": {
    "name": "ipython",
    "version": 3
   },
   "file_extension": ".py",
   "mimetype": "text/x-python",
   "name": "python",
   "nbconvert_exporter": "python",
   "pygments_lexer": "ipython3",
   "version": "3.10.16"
  }
 },
 "nbformat": 4,
 "nbformat_minor": 5
}
