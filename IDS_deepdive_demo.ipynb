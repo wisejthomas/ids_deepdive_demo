{
 "cells": [
  {
   "cell_type": "markdown",
   "id": "d16d4665-a9e5-4c96-8ecb-33dc4c4bfeb0",
   "metadata": {},
   "source": [
    "# Introduction "
   ]
  },
  {
   "cell_type": "markdown",
   "id": "908795eb-fce4-43b8-937f-58d82d082962",
   "metadata": {},
   "source": [
    "## Section 0: Setup of Workbench Space"
   ]
  },
  {
   "cell_type": "markdown",
   "id": "5315a909-d60c-409d-8dde-444b0024120b",
   "metadata": {},
   "source": [
    "## Section 1: Navigating Data in BigQuery Studio "
   ]
  },
  {
   "cell_type": "markdown",
   "id": "48adf00e-360a-4ea0-bbb9-ab175743b4a4",
   "metadata": {},
   "source": [
    "## Section 2: Introducing Jupyter Lab for Python "
   ]
  },
  {
   "cell_type": "markdown",
   "id": "df448252-e204-48ce-8cbc-f7cd13f49e6a",
   "metadata": {},
   "source": [
    "### Section 2a: Package Setup and Installation"
   ]
  },
  {
   "cell_type": "markdown",
   "id": "6302d756-e5e6-4aa6-accc-4fc1680afeae",
   "metadata": {},
   "source": [
    "## Section 3: Supercharging Python with \"BigFrames\""
   ]
  },
  {
   "cell_type": "markdown",
   "id": "4be041c8-5398-4e99-8537-531b91dbd376",
   "metadata": {},
   "source": [
    "### Section 3a: Using Magic Commands to Load in Data"
   ]
  },
  {
   "cell_type": "markdown",
   "id": "a2ac1283-d07d-4e90-a94e-e6032040a401",
   "metadata": {},
   "source": [
    "### Section 3b: Using Magic Commands to Manipulate Data"
   ]
  },
  {
   "cell_type": "markdown",
   "id": "a331476e-af1f-46ab-974f-43dcfa4ec24f",
   "metadata": {},
   "source": [
    "### Section 3c: Basic Descriptive Statistics"
   ]
  },
  {
   "cell_type": "markdown",
   "id": "467ae235-3883-4cb6-956a-524c913c05a0",
   "metadata": {},
   "source": [
    "### Section 3d: Building Cross Tabs "
   ]
  },
  {
   "cell_type": "markdown",
   "id": "76f407a2-fa4b-4869-aa67-0c88c2ad05b6",
   "metadata": {},
   "source": [
    "### Section 4: Visualising your Data in Python"
   ]
  }
 ],
 "metadata": {
  "environment": {
   "kernel": "conda-base-py",
   "name": "workbench-notebooks.m128",
   "type": "gcloud",
   "uri": "us-docker.pkg.dev/deeplearning-platform-release/gcr.io/workbench-notebooks:m128"
  },
  "kernelspec": {
   "display_name": "Python 3 (ipykernel) (Local)",
   "language": "python",
   "name": "conda-base-py"
  },
  "language_info": {
   "codemirror_mode": {
    "name": "ipython",
    "version": 3
   },
   "file_extension": ".py",
   "mimetype": "text/x-python",
   "name": "python",
   "nbconvert_exporter": "python",
   "pygments_lexer": "ipython3",
   "version": "3.10.16"
  }
 },
 "nbformat": 4,
 "nbformat_minor": 5
}
