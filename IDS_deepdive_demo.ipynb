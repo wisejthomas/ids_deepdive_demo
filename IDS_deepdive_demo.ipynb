{
 "cells": [
  {
   "cell_type": "markdown",
   "id": "d16d4665-a9e5-4c96-8ecb-33dc4c4bfeb0",
   "metadata": {},
   "source": [
    "# Introduction "
   ]
  },
  {
   "cell_type": "markdown",
   "id": "908795eb-fce4-43b8-937f-58d82d082962",
   "metadata": {},
   "source": [
    "## Section 0: Setup of Workbench Space\n",
    "\n",
    "To start this practical, we first must setup our workbench space within Qwiki-labs environment, this is a step one will not need to complete within the IDS environment, however for today's practical we will. For this we can follow the steps highlighted in Task 1 of the Lab. \n",
    "\n",
    "When we've followed all those steps, and we've reached Task 2, we can then import this repo from git, using the command\n",
    "\n",
    "<code> !git clone https://github.com/wisejthomas/ids_deepdive_demo </code>\n",
    "\n",
    "This will import this practical and demo into this workspace! \n",
    "\n",
    "### Important Definitions \n",
    "\n",
    "At this point, it is important to cover a few critical definitions:\n",
    "\n",
    "- **BigQuery** BigQuery is a fully managed, AI-ready data platform that helps you manage and analyze your data with built-in features like machine learning, search, geospatial analysis, and business intelligence. BigQuery's serverless architecture lets you use languages like SQL and Python to answer your organization's biggest questions with zero infrastructure management.\n",
    "\n",
    "- **JupyterLab** JupyterLab is a highly extensible, feature-rich notebook authoring application and editing environment, and is a part of Project Jupyter, a large umbrella project centered around the goal of providing tools (and standards) for interactive computing with computational notebooks.\n",
    "\n",
    "- **Vertex AI Workbench instance** Vertex AI Workbench instances are Jupyter notebook-based development environments on Google Cloud for the entire data science workflow. Vertex AI Workbench instances are prepackaged with JupyterLab. Vertex AI Workbench instances have integrations and features can make it easier to access your data, process data faster, schedule notebook runs, and more.\n",
    "\n",
    "For most of these methods, we will use a Python JupyterLab Kernel. In the Jupyter architecture, kernels are separate processes started by the server that run your code in different programming languages and environments. We will use the IPython Jupyter Kernel that comes prepackaged with Vertex AI Workbench Instances. This will allow us to execute Python code in this notebook interactively.\n"
   ]
  },
  {
   "cell_type": "markdown",
   "id": "5315a909-d60c-409d-8dde-444b0024120b",
   "metadata": {},
   "source": [
    "## Section 1: Navigating Data in BigQuery Studio \n",
    "\n",
    "To explore that data available to you within your project space, we can use the BigQuery Studio space. This is a UI on Google Cloud, which allows your to view information such as column names and descriptions, as well as a preview of the data. \n",
    "\n",
    "To access this UI you can select this link \n",
    "- Link: https://console.cloud.google.com/bigquery \n",
    "- Navigate via the UI to BigQuery >> Studio\n",
    "\n",
    "Here we can begin to explore the public data, in particular, the London Fire Brigade call outs in 2017. We can explore this data by following these steps: \n",
    "\n",
    "- Select project \"bigquery-public-data\" (if you don't see it, don't panic, just search for \"*London*\" in the search bar and it should appear!)\n",
    "    - Locate and select the dataset: \"london_fire_brigade\"\n",
    "        - Select table: \"fire_brigade_service_calls\"\n",
    "            - We can then preview a sample of this table, as well as view information such as column descriptions."
   ]
  },
  {
   "cell_type": "markdown",
   "id": "48adf00e-360a-4ea0-bbb9-ab175743b4a4",
   "metadata": {},
   "source": [
    "## Section 2: Introducing Jupyter Lab for Python \n",
    "\n"
   ]
  },
  {
   "cell_type": "markdown",
   "id": "df448252-e204-48ce-8cbc-f7cd13f49e6a",
   "metadata": {},
   "source": [
    "### Section 2a: Package Setup and Installation"
   ]
  },
  {
   "cell_type": "code",
   "execution_count": 1,
   "id": "c1bd3044-b7cb-4cd9-8a7c-4e7b5b3a91e1",
   "metadata": {
    "tags": []
   },
   "outputs": [
    {
     "name": "stdout",
     "output_type": "stream",
     "text": [
      "\n",
      "\u001b[1m[\u001b[0m\u001b[34;49mnotice\u001b[0m\u001b[1;39;49m]\u001b[0m\u001b[39;49m A new release of pip is available: \u001b[0m\u001b[31;49m25.0\u001b[0m\u001b[39;49m -> \u001b[0m\u001b[32;49m25.0.1\u001b[0m\n",
      "\u001b[1m[\u001b[0m\u001b[34;49mnotice\u001b[0m\u001b[1;39;49m]\u001b[0m\u001b[39;49m To update, run: \u001b[0m\u001b[32;49mpip install --upgrade pip\u001b[0m\n"
     ]
    }
   ],
   "source": [
    "# Install a pip package in the current Jupyter kernel\n",
    "# here the package is bigframes https://pypi.org/project/bigframes/\n",
    "import sys\n",
    "!{sys.executable} -m pip install bigframes | grep -v 'already satisfied'\n",
    "\n",
    "import bigframes.pandas as bpd\n",
    "import matplotlib.pyplot as plt\n",
    "\n",
    "# import warnings filter & ignore all future warnings\n",
    "# this is for teaching purposes only, to avoid FutureWarnings to do with bigframe compiler implementation\n",
    "from warnings import simplefilter\n",
    "simplefilter(action='ignore', category=FutureWarning)"
   ]
  },
  {
   "cell_type": "markdown",
   "id": "6302d756-e5e6-4aa6-accc-4fc1680afeae",
   "metadata": {},
   "source": [
    "## Section 3: Supercharging Python with \"BigFrames\""
   ]
  },
  {
   "cell_type": "markdown",
   "id": "4be041c8-5398-4e99-8537-531b91dbd376",
   "metadata": {},
   "source": [
    "### Section 3a: Load in Data\n",
    "For today's demonstration we will be exploring the Google Dataset around London Fire Brigade call outs in 2017. This dataset has been selected due to its similarity in variable type to the data. \n"
   ]
  },
  {
   "cell_type": "code",
   "execution_count": 2,
   "id": "a556fabc-4d7c-481a-b0bc-a5c00d967d7f",
   "metadata": {
    "tags": []
   },
   "outputs": [
    {
     "name": "stdout",
     "output_type": "stream",
     "text": [
      "step 1-of-3 :: loading data from BigQuery\n"
     ]
    }
   ],
   "source": [
    "# Load data from BigQuery\n",
    "print(\"step 1-of-3 :: loading data from BigQuery\")\n",
    "query_or_table = \"bigquery-public-data.london_fire_brigade.fire_brigade_service_calls\"\n",
    "bq_df = bpd.read_gbq(query_or_table, use_cache=False)"
   ]
  },
  {
   "cell_type": "code",
   "execution_count": 3,
   "id": "d54a55fa-6036-4d68-9c99-84351cd0cd02",
   "metadata": {
    "tags": []
   },
   "outputs": [
    {
     "data": {
      "text/html": [
       "Query job 74d97fdc-0603-4439-a4f3-8774d4349aca is DONE. 0 Bytes processed. <a target=\"_blank\" href=\"https://console.cloud.google.com/bigquery?project=qwiklabs-gcp-02-fdd34316e29e&j=bq:EU:74d97fdc-0603-4439-a4f3-8774d4349aca&page=queryresults\">Open Job</a>"
      ],
      "text/plain": [
       "<IPython.core.display.HTML object>"
      ]
     },
     "metadata": {},
     "output_type": "display_data"
    },
    {
     "data": {
      "text/plain": [
       "['incident_number',\n",
       " 'date_of_call',\n",
       " 'cal_year',\n",
       " 'time_of_call',\n",
       " 'hour_of_call',\n",
       " 'timestamp_of_call',\n",
       " 'incident_group',\n",
       " 'stop_code_description',\n",
       " 'special_service_type',\n",
       " 'property_category',\n",
       " 'property_type',\n",
       " 'address_qualifier',\n",
       " 'postcode_full',\n",
       " 'postcode_district',\n",
       " 'borough_code',\n",
       " 'borough_name',\n",
       " 'proper_case',\n",
       " 'ward_code',\n",
       " 'ward_name',\n",
       " 'ward_name_new',\n",
       " 'easting_m',\n",
       " 'northing_m',\n",
       " 'easting_rounded',\n",
       " 'northing_rounded',\n",
       " 'frs',\n",
       " 'incident_station_ground',\n",
       " 'first_pump_arriving_attendance_time',\n",
       " 'first_pump_arriving_deployed_from_station',\n",
       " 'second_pump_arriving_attendance_time',\n",
       " 'second_pump_arriving_deployed_from_station',\n",
       " 'num_stations_with_pumps_attending',\n",
       " 'num_pumps_attending']"
      ]
     },
     "execution_count": 3,
     "metadata": {},
     "output_type": "execute_result"
    }
   ],
   "source": [
    "# Lets double check our column names \n",
    "list(bq_df)"
   ]
  },
  {
   "cell_type": "markdown",
   "id": "a2ac1283-d07d-4e90-a94e-e6032040a401",
   "metadata": {},
   "source": [
    "### Section 3b: Using Magic Commands to Manipulate Data\n",
    "In order to improve the effeciency of writting queries and performing particular tasks, BigQuery has developed \"cell magics\" to make it easy to execute SQL queries. There are two BigQuery \"cell magics\": \n",
    "\n",
    "> %%bigquery\n",
    "- Behind the scenes, the %%bigquery magic command uses the BigQuery client library for Python to run the given query\n",
    "- Then convert the results to a pandas DataFrame\n",
    "- Then display results.\n",
    "\n",
    "> %%bigquery my_pandas_data_frame\n",
    "- Behind the scenes, the %%bigquery magic command uses the BigQuery client library for Python to run the given query\n",
    "- Then convert the results to a pandas DataFrame\n",
    "- Then save the pandas DataFrame to the variable my_pandas_data_frame\n",
    "\n",
    "Let us first of all consider, how many call outs, for the fire service were made by hour during 2017. We can assign this to the data frame *hour_of_call_incident_count* - we will come back to this later when we look to visualise these results! "
   ]
  },
  {
   "cell_type": "code",
   "execution_count": 10,
   "id": "4d911611-bca0-4972-b7c1-cab9f56e7fd4",
   "metadata": {
    "tags": []
   },
   "outputs": [
    {
     "data": {
      "application/vnd.jupyter.widget-view+json": {
       "model_id": "1bb8f2738baf4383a6662d3f011e62cd",
       "version_major": 2,
       "version_minor": 0
      },
      "text/plain": [
       "Query is running:   0%|          |"
      ]
     },
     "metadata": {},
     "output_type": "display_data"
    },
    {
     "data": {
      "application/vnd.jupyter.widget-view+json": {
       "model_id": "154c5e5fb2294c4db40f60ed3a92c475",
       "version_major": 2,
       "version_minor": 0
      },
      "text/plain": [
       "Downloading:   0%|          |"
      ]
     },
     "metadata": {},
     "output_type": "display_data"
    }
   ],
   "source": [
    "%%bigquery hour_of_call_incident_count\n",
    "SELECT \n",
    "    hour_of_call,\n",
    "    COUNT(DISTINCT incident_number) as incident_number_count\n",
    "FROM \n",
    "    bigquery-public-data.london_fire_brigade.fire_brigade_service_calls\n",
    "GROUP BY \n",
    "    hour_of_call\n",
    "ORDER BY \n",
    "    hour_of_call ASC;\n"
   ]
  },
  {
   "cell_type": "code",
   "execution_count": 11,
   "id": "ecbc0109-df19-4252-a573-4030499bbe7b",
   "metadata": {
    "tags": []
   },
   "outputs": [
    {
     "data": {
      "text/html": [
       "<div>\n",
       "<style scoped>\n",
       "    .dataframe tbody tr th:only-of-type {\n",
       "        vertical-align: middle;\n",
       "    }\n",
       "\n",
       "    .dataframe tbody tr th {\n",
       "        vertical-align: top;\n",
       "    }\n",
       "\n",
       "    .dataframe thead th {\n",
       "        text-align: right;\n",
       "    }\n",
       "</style>\n",
       "<table border=\"1\" class=\"dataframe\">\n",
       "  <thead>\n",
       "    <tr style=\"text-align: right;\">\n",
       "      <th></th>\n",
       "      <th>hour_of_call</th>\n",
       "      <th>incident_number_count</th>\n",
       "    </tr>\n",
       "  </thead>\n",
       "  <tbody>\n",
       "    <tr>\n",
       "      <th>0</th>\n",
       "      <td>0</td>\n",
       "      <td>976</td>\n",
       "    </tr>\n",
       "    <tr>\n",
       "      <th>1</th>\n",
       "      <td>1</td>\n",
       "      <td>879</td>\n",
       "    </tr>\n",
       "    <tr>\n",
       "      <th>2</th>\n",
       "      <td>2</td>\n",
       "      <td>645</td>\n",
       "    </tr>\n",
       "    <tr>\n",
       "      <th>3</th>\n",
       "      <td>3</td>\n",
       "      <td>549</td>\n",
       "    </tr>\n",
       "    <tr>\n",
       "      <th>4</th>\n",
       "      <td>4</td>\n",
       "      <td>485</td>\n",
       "    </tr>\n",
       "  </tbody>\n",
       "</table>\n",
       "</div>"
      ],
      "text/plain": [
       "   hour_of_call  incident_number_count\n",
       "0             0                    976\n",
       "1             1                    879\n",
       "2             2                    645\n",
       "3             3                    549\n",
       "4             4                    485"
      ]
     },
     "execution_count": 11,
     "metadata": {},
     "output_type": "execute_result"
    }
   ],
   "source": [
    "# In the meantime however, we can view the first five hours of the day!\n",
    "hour_of_call_incident_count.head()"
   ]
  },
  {
   "cell_type": "markdown",
   "id": "a331476e-af1f-46ab-974f-43dcfa4ec24f",
   "metadata": {},
   "source": [
    "### Section 3c: Basic Descriptive Statistics"
   ]
  },
  {
   "cell_type": "code",
   "execution_count": null,
   "id": "9757acf9-4c27-4596-8b8d-38aa79e00618",
   "metadata": {},
   "outputs": [],
   "source": []
  },
  {
   "cell_type": "markdown",
   "id": "467ae235-3883-4cb6-956a-524c913c05a0",
   "metadata": {},
   "source": [
    "### Section 3d: Building Cross Tabs "
   ]
  },
  {
   "cell_type": "code",
   "execution_count": null,
   "id": "b1933e10-09b9-4a00-90b4-625d492fcbd4",
   "metadata": {},
   "outputs": [],
   "source": []
  },
  {
   "cell_type": "markdown",
   "id": "76f407a2-fa4b-4869-aa67-0c88c2ad05b6",
   "metadata": {},
   "source": [
    "## Section 4: Visualising your Data in Python\n",
    "Lets return to our number of incident per hour, from Section 3b. Lets plot this using matplotlib.\n",
    "\n",
    "When using matplotlib we can simply highlight our X and Y variables respectively. In this case, we would like to create a bar plot, between the \"hour of calls\" and the \"number of incidents\" in that time. "
   ]
  },
  {
   "cell_type": "code",
   "execution_count": 14,
   "id": "0bdbe36b-e7fa-4ef6-a931-3d23421810bd",
   "metadata": {
    "tags": []
   },
   "outputs": [
    {
     "data": {
      "text/plain": [
       "Text(0.5, 1.0, 'Number of Incidents recorded per Hour')"
      ]
     },
     "execution_count": 14,
     "metadata": {},
     "output_type": "execute_result"
    },
    {
     "data": {
      "image/png": "[encoded data removed]",
      "text/plain": [
       "<Figure size 640x480 with 1 Axes>"
      ]
     },
     "metadata": {},
     "output_type": "display_data"
    }
   ],
   "source": [
    "# Bar Chart Call X = Hour of Call, Y = Incident Number Count \n",
    "plt.bar(hour_of_call_incident_count.hour_of_call, hour_of_call_incident_count.incident_number_count)\n",
    "# Label our X and Y axis and Title \n",
    "plt.xlabel('Hour of Call')\n",
    "plt.ylabel('Number of Incidents')\n",
    "plt.title('Number of Incidents recorded per Hour')"
   ]
  },
  {
   "cell_type": "code",
   "execution_count": null,
   "id": "8d3f88a0-fb29-44e9-8ae7-ca4e12868f07",
   "metadata": {},
   "outputs": [],
   "source": []
  }
 ],
 "metadata": {
  "environment": {
   "kernel": "conda-base-py",
   "name": "workbench-notebooks.m128",
   "type": "gcloud",
   "uri": "us-docker.pkg.dev/deeplearning-platform-release/gcr.io/workbench-notebooks:m128"
  },
  "kernelspec": {
   "display_name": "Python 3 (ipykernel) (Local) (Local)",
   "language": "python",
   "name": "conda-base-py"
  },
  "language_info": {
   "codemirror_mode": {
    "name": "ipython",
    "version": 3
   },
   "file_extension": ".py",
   "mimetype": "text/x-python",
   "name": "python",
   "nbconvert_exporter": "python",
   "pygments_lexer": "ipython3",
   "version": "3.10.16"
  }
 },
 "nbformat": 4,
 "nbformat_minor": 5
}
